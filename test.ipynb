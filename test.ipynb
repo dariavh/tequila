{
 "cells": [
  {
   "cell_type": "code",
   "execution_count": 1,
   "metadata": {},
   "outputs": [],
   "source": [
    "import cirq\n",
    "import numpy as np\n",
    "import tequila as tq"
   ]
  },
  {
   "cell_type": "code",
   "execution_count": 13,
   "metadata": {},
   "outputs": [],
   "source": [
    "U = tq.gates.X(0)\n",
    "U += tq.gates.Givens(0, 1, angle=-np.pi/4)\n",
    "wfn = tq.simulate(U)\n",
    "wfnx = tq.simulate(tq.gates.X(0))\n",
    "assert np.isclose(np.abs(wfn.inner(wfnx)), 1/np.sqrt(2))\n",
    "wfnx = tq.simulate(tq.gates.X(1))\n",
    "assert np.isclose(np.abs(wfn.inner(wfnx)), 1/np.sqrt(2))\n",
    "\n",
    "U = tq.gates.X(0)\n",
    "U += tq.gates.Givens(0, 1, angle=np.pi/4)\n",
    "wfn = tq.simulate(U)\n",
    "#qc = tq.QCircuit(gates=[0, 1])\n",
    "#qc = tq.gates.Phase([0, 1], angle=np.pi)\n",
    "#qc += tq.gates.X(0)\n",
    "wfnx0 = tq.simulate(tq.gates.Phase([0, 1], angle=np.pi) + tq.gates.X(0))\n",
    "wfnx1 = tq.simulate(tq.gates.X(1))\n",
    "assert np.isclose(wfn.inner(wfnx0), -wfn.inner(wfnx1))"
   ]
  },
  {
   "cell_type": "code",
   "execution_count": 30,
   "metadata": {},
   "outputs": [
    {
     "data": {
      "text/plain": [
       "'\\nU =tq.gates.X(0)\\nU += tq.gates.iSWAP(0, 2, power=0.5)\\nwfn =tq.simulate(U)\\nwfn0100 =tq.simulate(tq.gates.X(2))\\nassert np.isclose(np.abs(wfn.inner(wfn0100))**2, complex(0, 1)/np.sqrt(2))\\nwfn0010 =tq.simulate(tq.gates.X(0))\\nassert np.isclose(np.abs(wfn.inner(wfn0010))**2, 1/np.sqrt(2))\\n'"
      ]
     },
     "execution_count": 30,
     "metadata": {},
     "output_type": "execute_result"
    }
   ],
   "source": [
    "U = tq.gates.X(0)\n",
    "U += tq.gates.iSWAP(0, 2, power=0.5)\n",
    "wfn = tq.simulate(U)\n",
    "wfnx = tq.simulate(tq.gates.X(2))\n",
    "assert np.isclose(np.abs(wfn.inner(wfnx))**2, 0.5)"
   ]
  },
  {
   "cell_type": "code",
   "execution_count": 31,
   "metadata": {},
   "outputs": [
    {
     "data": {
      "text/plain": [
       "-0.7071067811865476j"
      ]
     },
     "execution_count": 31,
     "metadata": {},
     "output_type": "execute_result"
    }
   ],
   "source": [
    "wfn.inner(wfnx)"
   ]
  },
  {
   "cell_type": "code",
   "execution_count": 32,
   "metadata": {},
   "outputs": [
    {
     "data": {
      "text/plain": [
       "(+0.7071|100> +0.7071i|001> , +1.0000|1> )"
      ]
     },
     "execution_count": 32,
     "metadata": {},
     "output_type": "execute_result"
    }
   ],
   "source": [
    "wfn, wfnx"
   ]
  },
  {
   "cell_type": "code",
   "execution_count": null,
   "metadata": {},
   "outputs": [],
   "source": []
  }
 ],
 "metadata": {
  "kernelspec": {
   "display_name": "teq_fork",
   "language": "python",
   "name": "python3"
  },
  "language_info": {
   "codemirror_mode": {
    "name": "ipython",
    "version": 3
   },
   "file_extension": ".py",
   "mimetype": "text/x-python",
   "name": "python",
   "nbconvert_exporter": "python",
   "pygments_lexer": "ipython3",
   "version": "3.8.17"
  },
  "orig_nbformat": 4
 },
 "nbformat": 4,
 "nbformat_minor": 2
}
